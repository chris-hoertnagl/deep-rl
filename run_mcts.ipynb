{
 "cells": [
  {
   "cell_type": "code",
   "execution_count": null,
   "metadata": {},
   "outputs": [],
   "source": [
    "from algorithms.mcts import MCTS\n",
    "from envs.snake_env import SnakeEnv"
   ]
  },
  {
   "cell_type": "code",
   "execution_count": null,
   "metadata": {},
   "outputs": [],
   "source": [
    "game = SnakeEnv(6)\n",
    "searcher = MCTS(iterations=2000, exploration_constant=2.5, discount=0.999, step_cost=0.5)\n",
    "i = 0\n",
    "\n",
    "print(\"Game reset\")\n",
    "game.reset()\n",
    "initial_state = game.grid\n",
    "action_history = []\n",
    "while not game.terminal:\n",
    "    action = searcher.find_best_action(current_state=game.get_copy())\n",
    "    action_history.append(action)\n",
    "    game.step(action)\n",
    "    game.render()\n",
    "print(f\"Final score: {game.score}\")"
   ]
  }
 ],
 "metadata": {
  "kernelspec": {
   "display_name": "Python 3.10.6 ('ai')",
   "language": "python",
   "name": "python3"
  },
  "language_info": {
   "codemirror_mode": {
    "name": "ipython",
    "version": 3
   },
   "file_extension": ".py",
   "mimetype": "text/x-python",
   "name": "python",
   "nbconvert_exporter": "python",
   "pygments_lexer": "ipython3",
   "version": "3.10.11"
  },
  "orig_nbformat": 4,
  "vscode": {
   "interpreter": {
    "hash": "bb42a825cb137f8f6f87683b7076f5a8f01f23bcffe8bfce7003eb95672922a7"
   }
  }
 },
 "nbformat": 4,
 "nbformat_minor": 2
}
