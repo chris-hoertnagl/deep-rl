{
 "cells": [
  {
   "cell_type": "code",
   "execution_count": 4,
   "metadata": {},
   "outputs": [],
   "source": [
    "import math\n",
    "from IPython.display import clear_output\n",
    "\n",
    "from envs.python_snake_env import  SnakeEnv\n",
    "from algorithms.mcts import MCTS"
   ]
  },
  {
   "cell_type": "code",
   "execution_count": 7,
   "metadata": {},
   "outputs": [
    {
     "name": "stdout",
     "output_type": "stream",
     "text": [
      "UP: R: 599.0, V: 168, U: 3.95 /// DOWN: R: 0, V: 2, U: 3.52 /// LEFT: R: 0, V: 2, U: 3.52 /// RIGHT: R: 1219.76, V: 328, U: 3.99 /// \n",
      "ACTION TAKEN: RIGHT\n",
      "UP: R: 454.47, V: 132, U: 3.88 /// DOWN: R: 729.04, V: 205, U: 3.89 /// LEFT: R: 0, V: 2, U: 3.52 /// RIGHT: R: 562.25, V: 161, U: 3.89 /// \n",
      "ACTION TAKEN: DOWN\n",
      "UP: R: 0, V: 2, U: 3.52 /// DOWN: R: 685.78, V: 187, U: 4.02 /// LEFT: R: 578.98, V: 162, U: 3.97 /// RIGHT: R: 529.81, V: 149, U: 3.96 /// \n",
      "ACTION TAKEN: DOWN\n",
      "UP: R: 0, V: 2, U: 3.52 /// DOWN: R: 1174.48, V: 296, U: 4.25 /// LEFT: R: 666.47, V: 174, U: 4.21 /// RIGHT: R: 88.69, V: 28, U: 4.11 /// \n",
      "ACTION TAKEN: DOWN\n"
     ]
    },
    {
     "ename": "KeyboardInterrupt",
     "evalue": "",
     "output_type": "error",
     "traceback": [
      "\u001b[1;31m---------------------------------------------------------------------------\u001b[0m",
      "\u001b[1;31mKeyboardInterrupt\u001b[0m                         Traceback (most recent call last)",
      "Cell \u001b[1;32mIn [7], line 10\u001b[0m\n\u001b[0;32m      8\u001b[0m action_history \u001b[39m=\u001b[39m []\n\u001b[0;32m      9\u001b[0m \u001b[39mwhile\u001b[39;00m \u001b[39mnot\u001b[39;00m game\u001b[39m.\u001b[39mterminal:\n\u001b[1;32m---> 10\u001b[0m     action \u001b[39m=\u001b[39m searcher\u001b[39m.\u001b[39;49msearch(initialState\u001b[39m=\u001b[39;49mgame\u001b[39m.\u001b[39;49mget_copy())\n\u001b[0;32m     11\u001b[0m     \u001b[39mprint\u001b[39m(searcher\u001b[39m.\u001b[39mget_info())\n\u001b[0;32m     12\u001b[0m     \u001b[39mprint\u001b[39m(\u001b[39mf\u001b[39m\u001b[39m\"\u001b[39m\u001b[39mACTION TAKEN: \u001b[39m\u001b[39m{\u001b[39;00maction\u001b[39m}\u001b[39;00m\u001b[39m\"\u001b[39m)\n",
      "File \u001b[1;32mc:\\Users\\chris\\dev\\projects\\deep-rl\\algorithms\\mcts.py:60\u001b[0m, in \u001b[0;36mMCTS.search\u001b[1;34m(self, initialState)\u001b[0m\n\u001b[0;32m     57\u001b[0m \u001b[39mself\u001b[39m\u001b[39m.\u001b[39mroot \u001b[39m=\u001b[39m treeNode(initialState, \u001b[39mNone\u001b[39;00m)\n\u001b[0;32m     59\u001b[0m \u001b[39mfor\u001b[39;00m i \u001b[39min\u001b[39;00m \u001b[39mrange\u001b[39m(\u001b[39mself\u001b[39m\u001b[39m.\u001b[39miterations):\n\u001b[1;32m---> 60\u001b[0m     \u001b[39mself\u001b[39;49m\u001b[39m.\u001b[39;49mexecute_iteration()\n\u001b[0;32m     62\u001b[0m action \u001b[39m=\u001b[39m \u001b[39mmax\u001b[39m([(action, node\u001b[39m.\u001b[39mvalue) \u001b[39mfor\u001b[39;00m action, node \u001b[39min\u001b[39;00m \u001b[39mself\u001b[39m\u001b[39m.\u001b[39mroot\u001b[39m.\u001b[39mchildren\u001b[39m.\u001b[39mitems()],key\u001b[39m=\u001b[39m\u001b[39mlambda\u001b[39;00m x:x[\u001b[39m1\u001b[39m])[\u001b[39m0\u001b[39m]\n\u001b[0;32m     63\u001b[0m \u001b[39mreturn\u001b[39;00m action\n",
      "File \u001b[1;32mc:\\Users\\chris\\dev\\projects\\deep-rl\\algorithms\\mcts.py:89\u001b[0m, in \u001b[0;36mMCTS.execute_iteration\u001b[1;34m(self)\u001b[0m\n\u001b[0;32m     87\u001b[0m \u001b[39melse\u001b[39;00m:\n\u001b[0;32m     88\u001b[0m     node \u001b[39m=\u001b[39m \u001b[39mself\u001b[39m\u001b[39m.\u001b[39mselectNode(\u001b[39mself\u001b[39m\u001b[39m.\u001b[39mroot)\n\u001b[1;32m---> 89\u001b[0m     node \u001b[39m=\u001b[39m \u001b[39mself\u001b[39;49m\u001b[39m.\u001b[39;49mexpand(node)\n\u001b[0;32m     90\u001b[0m     reward \u001b[39m=\u001b[39m \u001b[39m0\u001b[39m \u001b[39mif\u001b[39;00m node\u001b[39m.\u001b[39mis_terminal \u001b[39melse\u001b[39;00m \u001b[39mself\u001b[39m\u001b[39m.\u001b[39mrollout(node\u001b[39m.\u001b[39mstate, \u001b[39mself\u001b[39m\u001b[39m.\u001b[39mdiscount)\n\u001b[0;32m     91\u001b[0m     \u001b[39mself\u001b[39m\u001b[39m.\u001b[39mbackpropogate(node, reward)\n",
      "File \u001b[1;32mc:\\Users\\chris\\dev\\projects\\deep-rl\\algorithms\\mcts.py:107\u001b[0m, in \u001b[0;36mMCTS.expand\u001b[1;34m(self, node)\u001b[0m\n\u001b[0;32m    105\u001b[0m \u001b[39mfor\u001b[39;00m action \u001b[39min\u001b[39;00m actions:\n\u001b[0;32m    106\u001b[0m     \u001b[39mif\u001b[39;00m action \u001b[39mnot\u001b[39;00m \u001b[39min\u001b[39;00m node\u001b[39m.\u001b[39mchildren:\n\u001b[1;32m--> 107\u001b[0m         state_copy \u001b[39m=\u001b[39m node\u001b[39m.\u001b[39;49mstate\u001b[39m.\u001b[39;49mget_copy()\n\u001b[0;32m    108\u001b[0m         state_copy\u001b[39m.\u001b[39mstep(action)\n\u001b[0;32m    109\u001b[0m         newNode \u001b[39m=\u001b[39m treeNode(state_copy, node)\n",
      "File \u001b[1;32mc:\\Users\\chris\\dev\\projects\\deep-rl\\envs\\python_snake_env.py:69\u001b[0m, in \u001b[0;36mSnakeEnv.get_copy\u001b[1;34m(self)\u001b[0m\n\u001b[0;32m     67\u001b[0m instance\u001b[39m.\u001b[39mreset()\n\u001b[0;32m     68\u001b[0m instance\u001b[39m.\u001b[39mgrid \u001b[39m=\u001b[39m deepcopy(\u001b[39mself\u001b[39m\u001b[39m.\u001b[39mgrid)\n\u001b[1;32m---> 69\u001b[0m instance\u001b[39m.\u001b[39msnake \u001b[39m=\u001b[39m deepcopy(\u001b[39mself\u001b[39;49m\u001b[39m.\u001b[39;49msnake)\n\u001b[0;32m     70\u001b[0m instance\u001b[39m.\u001b[39mapple \u001b[39m=\u001b[39m \u001b[39mself\u001b[39m\u001b[39m.\u001b[39mapple\n\u001b[0;32m     71\u001b[0m instance\u001b[39m.\u001b[39mscore \u001b[39m=\u001b[39m \u001b[39mself\u001b[39m\u001b[39m.\u001b[39mscore\n",
      "File \u001b[1;32mc:\\Users\\chris\\miniconda3\\envs\\ai\\lib\\copy.py:146\u001b[0m, in \u001b[0;36mdeepcopy\u001b[1;34m(x, memo, _nil)\u001b[0m\n\u001b[0;32m    144\u001b[0m copier \u001b[39m=\u001b[39m _deepcopy_dispatch\u001b[39m.\u001b[39mget(\u001b[39mcls\u001b[39m)\n\u001b[0;32m    145\u001b[0m \u001b[39mif\u001b[39;00m copier \u001b[39mis\u001b[39;00m \u001b[39mnot\u001b[39;00m \u001b[39mNone\u001b[39;00m:\n\u001b[1;32m--> 146\u001b[0m     y \u001b[39m=\u001b[39m copier(x, memo)\n\u001b[0;32m    147\u001b[0m \u001b[39melse\u001b[39;00m:\n\u001b[0;32m    148\u001b[0m     \u001b[39mif\u001b[39;00m \u001b[39missubclass\u001b[39m(\u001b[39mcls\u001b[39m, \u001b[39mtype\u001b[39m):\n",
      "File \u001b[1;32mc:\\Users\\chris\\miniconda3\\envs\\ai\\lib\\copy.py:206\u001b[0m, in \u001b[0;36m_deepcopy_list\u001b[1;34m(x, memo, deepcopy)\u001b[0m\n\u001b[0;32m    204\u001b[0m append \u001b[39m=\u001b[39m y\u001b[39m.\u001b[39mappend\n\u001b[0;32m    205\u001b[0m \u001b[39mfor\u001b[39;00m a \u001b[39min\u001b[39;00m x:\n\u001b[1;32m--> 206\u001b[0m     append(deepcopy(a, memo))\n\u001b[0;32m    207\u001b[0m \u001b[39mreturn\u001b[39;00m y\n",
      "File \u001b[1;32mc:\\Users\\chris\\miniconda3\\envs\\ai\\lib\\copy.py:146\u001b[0m, in \u001b[0;36mdeepcopy\u001b[1;34m(x, memo, _nil)\u001b[0m\n\u001b[0;32m    144\u001b[0m copier \u001b[39m=\u001b[39m _deepcopy_dispatch\u001b[39m.\u001b[39mget(\u001b[39mcls\u001b[39m)\n\u001b[0;32m    145\u001b[0m \u001b[39mif\u001b[39;00m copier \u001b[39mis\u001b[39;00m \u001b[39mnot\u001b[39;00m \u001b[39mNone\u001b[39;00m:\n\u001b[1;32m--> 146\u001b[0m     y \u001b[39m=\u001b[39m copier(x, memo)\n\u001b[0;32m    147\u001b[0m \u001b[39melse\u001b[39;00m:\n\u001b[0;32m    148\u001b[0m     \u001b[39mif\u001b[39;00m \u001b[39missubclass\u001b[39m(\u001b[39mcls\u001b[39m, \u001b[39mtype\u001b[39m):\n",
      "File \u001b[1;32mc:\\Users\\chris\\miniconda3\\envs\\ai\\lib\\copy.py:211\u001b[0m, in \u001b[0;36m_deepcopy_tuple\u001b[1;34m(x, memo, deepcopy)\u001b[0m\n\u001b[0;32m    210\u001b[0m \u001b[39mdef\u001b[39;00m \u001b[39m_deepcopy_tuple\u001b[39m(x, memo, deepcopy\u001b[39m=\u001b[39mdeepcopy):\n\u001b[1;32m--> 211\u001b[0m     y \u001b[39m=\u001b[39m [deepcopy(a, memo) \u001b[39mfor\u001b[39;00m a \u001b[39min\u001b[39;00m x]\n\u001b[0;32m    212\u001b[0m     \u001b[39m# We're not going to put the tuple in the memo, but it's still important we\u001b[39;00m\n\u001b[0;32m    213\u001b[0m     \u001b[39m# check for it, in case the tuple contains recursive mutable structures.\u001b[39;00m\n\u001b[0;32m    214\u001b[0m     \u001b[39mtry\u001b[39;00m:\n",
      "File \u001b[1;32mc:\\Users\\chris\\miniconda3\\envs\\ai\\lib\\copy.py:211\u001b[0m, in \u001b[0;36m<listcomp>\u001b[1;34m(.0)\u001b[0m\n\u001b[0;32m    210\u001b[0m \u001b[39mdef\u001b[39;00m \u001b[39m_deepcopy_tuple\u001b[39m(x, memo, deepcopy\u001b[39m=\u001b[39mdeepcopy):\n\u001b[1;32m--> 211\u001b[0m     y \u001b[39m=\u001b[39m [deepcopy(a, memo) \u001b[39mfor\u001b[39;00m a \u001b[39min\u001b[39;00m x]\n\u001b[0;32m    212\u001b[0m     \u001b[39m# We're not going to put the tuple in the memo, but it's still important we\u001b[39;00m\n\u001b[0;32m    213\u001b[0m     \u001b[39m# check for it, in case the tuple contains recursive mutable structures.\u001b[39;00m\n\u001b[0;32m    214\u001b[0m     \u001b[39mtry\u001b[39;00m:\n",
      "File \u001b[1;32mc:\\Users\\chris\\miniconda3\\envs\\ai\\lib\\copy.py:128\u001b[0m, in \u001b[0;36mdeepcopy\u001b[1;34m(x, memo, _nil)\u001b[0m\n\u001b[0;32m    124\u001b[0m     d[PyStringMap] \u001b[39m=\u001b[39m PyStringMap\u001b[39m.\u001b[39mcopy\n\u001b[0;32m    126\u001b[0m \u001b[39mdel\u001b[39;00m d, t\n\u001b[1;32m--> 128\u001b[0m \u001b[39mdef\u001b[39;00m \u001b[39mdeepcopy\u001b[39m(x, memo\u001b[39m=\u001b[39m\u001b[39mNone\u001b[39;00m, _nil\u001b[39m=\u001b[39m[]):\n\u001b[0;32m    129\u001b[0m     \u001b[39m\"\"\"Deep copy operation on arbitrary Python objects.\u001b[39;00m\n\u001b[0;32m    130\u001b[0m \n\u001b[0;32m    131\u001b[0m \u001b[39m    See the module's __doc__ string for more info.\u001b[39;00m\n\u001b[0;32m    132\u001b[0m \u001b[39m    \"\"\"\u001b[39;00m\n\u001b[0;32m    134\u001b[0m     \u001b[39mif\u001b[39;00m memo \u001b[39mis\u001b[39;00m \u001b[39mNone\u001b[39;00m:\n",
      "\u001b[1;31mKeyboardInterrupt\u001b[0m: "
     ]
    }
   ],
   "source": [
    "game = SnakeEnv(7, 50)\n",
    "searcher = MCTS(iterations=500, explorationConstant=math.sqrt(2), discount=0.9)\n",
    "i = 0\n",
    "while True:\n",
    "    print(\"Game reset\")\n",
    "    game.reset()\n",
    "    initial_state = game.grid\n",
    "    action_history = []\n",
    "    while not game.terminal:\n",
    "        action = searcher.search(initialState=game.get_copy())\n",
    "        print(searcher.get_info())\n",
    "        print(f\"ACTION TAKEN: {action}\")\n",
    "        action_history.append(action)\n",
    "        #TODO: check if carry over of last action is correct\n",
    "        game.step(action)\n",
    "        i += 1\n",
    "        game.render()\n",
    "        if i % 10 == 0:\n",
    "            clear_output(wait=True)\n",
    "    break"
   ]
  }
 ],
 "metadata": {
  "kernelspec": {
   "display_name": "Python 3.10.6 ('ai')",
   "language": "python",
   "name": "python3"
  },
  "language_info": {
   "codemirror_mode": {
    "name": "ipython",
    "version": 3
   },
   "file_extension": ".py",
   "mimetype": "text/x-python",
   "name": "python",
   "nbconvert_exporter": "python",
   "pygments_lexer": "ipython3",
   "version": "3.10.6"
  },
  "orig_nbformat": 4,
  "vscode": {
   "interpreter": {
    "hash": "bb42a825cb137f8f6f87683b7076f5a8f01f23bcffe8bfce7003eb95672922a7"
   }
  }
 },
 "nbformat": 4,
 "nbformat_minor": 2
}
