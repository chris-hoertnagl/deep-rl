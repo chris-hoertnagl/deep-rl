{
 "cells": [
  {
   "cell_type": "code",
   "execution_count": 3,
   "metadata": {},
   "outputs": [
    {
     "name": "stdout",
     "output_type": "stream",
     "text": [
      "ate food\n",
      "episode: 1/100000, score: 1\n",
      "mean score of last 20: 1.0\n",
      "ate food\n",
      "episode: 2/100000, score: 1\n",
      "mean score of last 20: 1.0\n",
      "ate food\n",
      "episode: 3/100000, score: 1\n",
      "mean score of last 20: 1.0\n",
      "ate food\n",
      "ate food\n",
      "episode: 4/100000, score: 2\n",
      "mean score of last 20: 1.25\n",
      "ate food\n",
      "episode: 5/100000, score: 1\n",
      "mean score of last 20: 1.2000000476837158\n",
      "ate food\n",
      "episode: 6/100000, score: 1\n",
      "mean score of last 20: 1.1666666269302368\n",
      "episode: 7/100000, score: 1\n",
      "mean score of last 20: 1.1428571939468384\n",
      "episode: 8/100000, score: 1\n",
      "mean score of last 20: 1.125\n",
      "ate food\n",
      "episode: 9/100000, score: 2\n",
      "mean score of last 20: 1.2222222089767456\n",
      "ate food\n",
      "episode: 10/100000, score: 1\n",
      "mean score of last 20: 1.2000000476837158\n",
      "episode: 11/100000, score: 1\n",
      "mean score of last 20: 1.1818181276321411\n",
      "ate food\n",
      "episode: 12/100000, score: 1\n",
      "mean score of last 20: 1.1666666269302368\n",
      "ate food\n",
      "episode: 13/100000, score: 1\n",
      "mean score of last 20: 1.1538461446762085\n",
      "ate food\n",
      "episode: 14/100000, score: 1\n",
      "mean score of last 20: 1.1428571939468384\n",
      "ate food\n",
      "episode: 15/100000, score: 1\n",
      "mean score of last 20: 1.1333333253860474\n",
      "ate food\n",
      "ate food\n",
      "episode: 16/100000, score: 2\n",
      "mean score of last 20: 1.1875\n",
      "ate food\n",
      "episode: 17/100000, score: 1\n",
      "mean score of last 20: 1.1764706373214722\n",
      "ate food\n",
      "1/1 [==============================] - 0s 41ms/step\n",
      "episode: 18/100000, score: 1\n",
      "mean score of last 20: 1.1666666269302368\n",
      "ate food\n"
     ]
    },
    {
     "ename": "KeyboardInterrupt",
     "evalue": "",
     "output_type": "error",
     "traceback": [
      "\u001b[1;31m---------------------------------------------------------------------------\u001b[0m",
      "\u001b[1;31mKeyboardInterrupt\u001b[0m                         Traceback (most recent call last)",
      "Cell \u001b[1;32mIn [3], line 8\u001b[0m\n\u001b[0;32m      6\u001b[0m env \u001b[39m=\u001b[39m python_snake_env\u001b[39m.\u001b[39mSnakeEnv(tiles\u001b[39m=\u001b[39m\u001b[39m5\u001b[39m, tile_size\u001b[39m=\u001b[39m\u001b[39m50\u001b[39m)\n\u001b[0;32m      7\u001b[0m agent \u001b[39m=\u001b[39m agent\u001b[39m.\u001b[39mDQNAGENT(env\u001b[39m=\u001b[39menv)\n\u001b[1;32m----> 8\u001b[0m agent\u001b[39m.\u001b[39;49mtrain()\n",
      "File \u001b[1;32mc:\\Users\\chris\\dev\\projects\\deep-rl\\algorithms\\snake_python_agent.py:121\u001b[0m, in \u001b[0;36mDQNAGENT.train\u001b[1;34m(self)\u001b[0m\n\u001b[0;32m    119\u001b[0m \u001b[39mif\u001b[39;00m render:\n\u001b[0;32m    120\u001b[0m     \u001b[39mself\u001b[39m\u001b[39m.\u001b[39menv\u001b[39m.\u001b[39mrender()\n\u001b[1;32m--> 121\u001b[0m     time\u001b[39m.\u001b[39;49msleep(\u001b[39m0.1\u001b[39;49m)\n\u001b[0;32m    122\u001b[0m \u001b[39mif\u001b[39;00m done:\n\u001b[0;32m    123\u001b[0m     rolling_score\u001b[39m.\u001b[39mappend(score)\n",
      "\u001b[1;31mKeyboardInterrupt\u001b[0m: "
     ]
    }
   ],
   "source": [
    "from envs import  python_snake_env\n",
    "from algorithms import snake_python_agent as agent\n",
    "\n",
    "\n",
    "if __name__ == '__main__':\n",
    "    env = python_snake_env.SnakeEnv(tiles=5, tile_size=50)\n",
    "    agent = agent.DQNAGENT(env=env)\n",
    "    agent.train()"
   ]
  }
 ],
 "metadata": {
  "kernelspec": {
   "display_name": "Python 3.10.6 ('ai')",
   "language": "python",
   "name": "python3"
  },
  "language_info": {
   "codemirror_mode": {
    "name": "ipython",
    "version": 3
   },
   "file_extension": ".py",
   "mimetype": "text/x-python",
   "name": "python",
   "nbconvert_exporter": "python",
   "pygments_lexer": "ipython3",
   "version": "3.10.6"
  },
  "orig_nbformat": 4,
  "vscode": {
   "interpreter": {
    "hash": "bb42a825cb137f8f6f87683b7076f5a8f01f23bcffe8bfce7003eb95672922a7"
   }
  }
 },
 "nbformat": 4,
 "nbformat_minor": 2
}
