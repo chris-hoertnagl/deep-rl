{
 "cells": [
  {
   "cell_type": "code",
   "execution_count": 1,
   "metadata": {},
   "outputs": [],
   "source": [
    "from envs.python_snake_env import  SnakeEnv\n",
    "from envs.snake_preprocessor import Preprocessor\n",
    "from algorithms.snake_dqn_agent import DQNAGENT"
   ]
  },
  {
   "cell_type": "code",
   "execution_count": 2,
   "metadata": {},
   "outputs": [
    {
     "name": "stdout",
     "output_type": "stream",
     "text": [
      "Episode 155/1000, Score: 4, HighScore: 16\n",
      "1/1 [==============================] - 0s 14ms/step\n",
      "1/1 [==============================] - 0s 15ms/step\n",
      "1/1 [==============================] - 0s 13ms/step\n",
      "1/1 [==============================] - 0s 13ms/step\n",
      "1/1 [==============================] - 0s 14ms/step\n",
      "1/1 [==============================] - 0s 14ms/step\n",
      "1/1 [==============================] - 0s 14ms/step\n",
      "1/1 [==============================] - 0s 14ms/step\n",
      "1/1 [==============================] - 0s 14ms/step\n",
      "1/1 [==============================] - 0s 15ms/step\n",
      "1/1 [==============================] - 0s 15ms/step\n",
      "1/1 [==============================] - 0s 13ms/step\n",
      "1/1 [==============================] - 0s 14ms/step\n",
      "1/1 [==============================] - 0s 14ms/step\n",
      "1/1 [==============================] - 0s 14ms/step\n",
      "1/1 [==============================] - 0s 14ms/step\n",
      "1/1 [==============================] - 0s 14ms/step\n",
      "1/1 [==============================] - 0s 18ms/step\n",
      "1/1 [==============================] - 0s 15ms/step\n",
      "1/1 [==============================] - 0s 15ms/step\n",
      "1/1 [==============================] - 0s 16ms/step\n",
      "1/1 [==============================] - 0s 15ms/step\n",
      "1/1 [==============================] - 0s 15ms/step\n",
      "1/1 [==============================] - 0s 14ms/step\n",
      "1/1 [==============================] - 0s 14ms/step\n",
      "1/1 [==============================] - 0s 15ms/step\n",
      "1/1 [==============================] - 0s 30ms/step\n"
     ]
    },
    {
     "ename": "KeyboardInterrupt",
     "evalue": "",
     "output_type": "error",
     "traceback": [
      "\u001b[1;31m---------------------------------------------------------------------------\u001b[0m",
      "\u001b[1;31mKeyboardInterrupt\u001b[0m                         Traceback (most recent call last)",
      "Cell \u001b[1;32mIn [2], line 4\u001b[0m\n\u001b[0;32m      2\u001b[0m proc \u001b[39m=\u001b[39m Preprocessor()\n\u001b[0;32m      3\u001b[0m agent \u001b[39m=\u001b[39m DQNAGENT(env\u001b[39m=\u001b[39menv, processor\u001b[39m=\u001b[39mproc)\n\u001b[1;32m----> 4\u001b[0m agent\u001b[39m.\u001b[39;49mtrain()\n",
      "File \u001b[1;32mc:\\Users\\chris\\dev\\projects\\deep-rl\\algorithms\\snake_dqn_agent.py:113\u001b[0m, in \u001b[0;36mDQNAGENT.train\u001b[1;34m(self)\u001b[0m\n\u001b[0;32m    111\u001b[0m     \u001b[39mself\u001b[39m\u001b[39m.\u001b[39menv\u001b[39m.\u001b[39mrender()\n\u001b[0;32m    112\u001b[0m \u001b[39mif\u001b[39;00m params[\u001b[39m'\u001b[39m\u001b[39mbatch_size\u001b[39m\u001b[39m'\u001b[39m] \u001b[39m>\u001b[39m \u001b[39m1\u001b[39m:\n\u001b[1;32m--> 113\u001b[0m     agent\u001b[39m.\u001b[39;49mreplay()\n\u001b[0;32m    114\u001b[0m \u001b[39mif\u001b[39;00m done:\n\u001b[0;32m    115\u001b[0m     \u001b[39mif\u001b[39;00m score \u001b[39m>\u001b[39m high_score:\n",
      "File \u001b[1;32mc:\\Users\\chris\\dev\\projects\\deep-rl\\algorithms\\snake_dqn_agent.py:67\u001b[0m, in \u001b[0;36mDQN.replay\u001b[1;34m(self)\u001b[0m\n\u001b[0;32m     65\u001b[0m states \u001b[39m=\u001b[39m np\u001b[39m.\u001b[39msqueeze(states)\n\u001b[0;32m     66\u001b[0m next_states \u001b[39m=\u001b[39m np\u001b[39m.\u001b[39msqueeze(next_states)\n\u001b[1;32m---> 67\u001b[0m targets \u001b[39m=\u001b[39m rewards \u001b[39m+\u001b[39m \u001b[39mself\u001b[39m\u001b[39m.\u001b[39mgamma\u001b[39m*\u001b[39m(np\u001b[39m.\u001b[39mamax(\u001b[39mself\u001b[39;49m\u001b[39m.\u001b[39;49mmodel\u001b[39m.\u001b[39;49mpredict_on_batch(next_states), axis\u001b[39m=\u001b[39m\u001b[39m1\u001b[39m))\u001b[39m*\u001b[39m(\u001b[39m1\u001b[39m\u001b[39m-\u001b[39mdones)\n\u001b[0;32m     68\u001b[0m targets_full \u001b[39m=\u001b[39m \u001b[39mself\u001b[39m\u001b[39m.\u001b[39mmodel\u001b[39m.\u001b[39mpredict_on_batch(states)\n\u001b[0;32m     70\u001b[0m ind \u001b[39m=\u001b[39m np\u001b[39m.\u001b[39marray([i \u001b[39mfor\u001b[39;00m i \u001b[39min\u001b[39;00m \u001b[39mrange\u001b[39m(\u001b[39mself\u001b[39m\u001b[39m.\u001b[39mbatch_size)])\n",
      "File \u001b[1;32mc:\\Users\\chris\\miniconda3\\envs\\ai\\lib\\site-packages\\keras\\engine\\training.py:2567\u001b[0m, in \u001b[0;36mModel.predict_on_batch\u001b[1;34m(self, x)\u001b[0m\n\u001b[0;32m   2565\u001b[0m _disallow_inside_tf_function(\u001b[39m\"\u001b[39m\u001b[39mpredict_on_batch\u001b[39m\u001b[39m\"\u001b[39m)\n\u001b[0;32m   2566\u001b[0m \u001b[39mwith\u001b[39;00m \u001b[39mself\u001b[39m\u001b[39m.\u001b[39mdistribute_strategy\u001b[39m.\u001b[39mscope():\n\u001b[1;32m-> 2567\u001b[0m     iterator \u001b[39m=\u001b[39m data_adapter\u001b[39m.\u001b[39;49msingle_batch_iterator(\n\u001b[0;32m   2568\u001b[0m         \u001b[39mself\u001b[39;49m\u001b[39m.\u001b[39;49mdistribute_strategy, x\n\u001b[0;32m   2569\u001b[0m     )\n\u001b[0;32m   2570\u001b[0m     \u001b[39mself\u001b[39m\u001b[39m.\u001b[39mpredict_function \u001b[39m=\u001b[39m \u001b[39mself\u001b[39m\u001b[39m.\u001b[39mmake_predict_function()\n\u001b[0;32m   2571\u001b[0m     outputs \u001b[39m=\u001b[39m \u001b[39mself\u001b[39m\u001b[39m.\u001b[39mpredict_function(iterator)\n",
      "File \u001b[1;32mc:\\Users\\chris\\miniconda3\\envs\\ai\\lib\\site-packages\\keras\\engine\\data_adapter.py:1833\u001b[0m, in \u001b[0;36msingle_batch_iterator\u001b[1;34m(strategy, x, y, sample_weight, class_weight)\u001b[0m\n\u001b[0;32m   1831\u001b[0m     dataset \u001b[39m=\u001b[39m dataset\u001b[39m.\u001b[39mmap(_make_class_weight_map_fn(class_weight))\n\u001b[0;32m   1832\u001b[0m dataset \u001b[39m=\u001b[39m strategy\u001b[39m.\u001b[39mexperimental_distribute_dataset(dataset)\n\u001b[1;32m-> 1833\u001b[0m \u001b[39mreturn\u001b[39;00m \u001b[39miter\u001b[39;49m(dataset)\n",
      "File \u001b[1;32mc:\\Users\\chris\\miniconda3\\envs\\ai\\lib\\site-packages\\tensorflow\\python\\data\\ops\\dataset_ops.py:499\u001b[0m, in \u001b[0;36mDatasetV2.__iter__\u001b[1;34m(self)\u001b[0m\n\u001b[0;32m    497\u001b[0m \u001b[39mif\u001b[39;00m context\u001b[39m.\u001b[39mexecuting_eagerly() \u001b[39mor\u001b[39;00m ops\u001b[39m.\u001b[39minside_function():\n\u001b[0;32m    498\u001b[0m   \u001b[39mwith\u001b[39;00m ops\u001b[39m.\u001b[39mcolocate_with(\u001b[39mself\u001b[39m\u001b[39m.\u001b[39m_variant_tensor):\n\u001b[1;32m--> 499\u001b[0m     \u001b[39mreturn\u001b[39;00m iterator_ops\u001b[39m.\u001b[39;49mOwnedIterator(\u001b[39mself\u001b[39;49m)\n\u001b[0;32m    500\u001b[0m \u001b[39melse\u001b[39;00m:\n\u001b[0;32m    501\u001b[0m   \u001b[39mraise\u001b[39;00m \u001b[39mRuntimeError\u001b[39;00m(\u001b[39m\"\u001b[39m\u001b[39m`tf.data.Dataset` only supports Python-style \u001b[39m\u001b[39m\"\u001b[39m\n\u001b[0;32m    502\u001b[0m                      \u001b[39m\"\u001b[39m\u001b[39miteration in eager mode or within tf.function.\u001b[39m\u001b[39m\"\u001b[39m)\n",
      "File \u001b[1;32mc:\\Users\\chris\\miniconda3\\envs\\ai\\lib\\site-packages\\tensorflow\\python\\data\\ops\\iterator_ops.py:703\u001b[0m, in \u001b[0;36mOwnedIterator.__init__\u001b[1;34m(self, dataset, components, element_spec)\u001b[0m\n\u001b[0;32m    699\u001b[0m   \u001b[39mif\u001b[39;00m (components \u001b[39mis\u001b[39;00m \u001b[39mnot\u001b[39;00m \u001b[39mNone\u001b[39;00m \u001b[39mor\u001b[39;00m element_spec \u001b[39mis\u001b[39;00m \u001b[39mnot\u001b[39;00m \u001b[39mNone\u001b[39;00m):\n\u001b[0;32m    700\u001b[0m     \u001b[39mraise\u001b[39;00m \u001b[39mValueError\u001b[39;00m(\n\u001b[0;32m    701\u001b[0m         \u001b[39m\"\u001b[39m\u001b[39mWhen `dataset` is provided, `element_spec` and `components` must \u001b[39m\u001b[39m\"\u001b[39m\n\u001b[0;32m    702\u001b[0m         \u001b[39m\"\u001b[39m\u001b[39mnot be specified.\u001b[39m\u001b[39m\"\u001b[39m)\n\u001b[1;32m--> 703\u001b[0m   \u001b[39mself\u001b[39;49m\u001b[39m.\u001b[39;49m_create_iterator(dataset)\n\u001b[0;32m    705\u001b[0m \u001b[39mself\u001b[39m\u001b[39m.\u001b[39m_get_next_call_count \u001b[39m=\u001b[39m \u001b[39m0\u001b[39m\n",
      "File \u001b[1;32mc:\\Users\\chris\\miniconda3\\envs\\ai\\lib\\site-packages\\tensorflow\\python\\data\\ops\\iterator_ops.py:725\u001b[0m, in \u001b[0;36mOwnedIterator._create_iterator\u001b[1;34m(self, dataset)\u001b[0m\n\u001b[0;32m    721\u001b[0m \u001b[39mself\u001b[39m\u001b[39m.\u001b[39m_flat_output_shapes \u001b[39m=\u001b[39m structure\u001b[39m.\u001b[39mget_flat_tensor_shapes(\n\u001b[0;32m    722\u001b[0m     \u001b[39mself\u001b[39m\u001b[39m.\u001b[39m_element_spec)\n\u001b[0;32m    723\u001b[0m \u001b[39mwith\u001b[39;00m ops\u001b[39m.\u001b[39mcolocate_with(ds_variant):\n\u001b[0;32m    724\u001b[0m   \u001b[39mself\u001b[39m\u001b[39m.\u001b[39m_iterator_resource \u001b[39m=\u001b[39m (\n\u001b[1;32m--> 725\u001b[0m       gen_dataset_ops\u001b[39m.\u001b[39;49manonymous_iterator_v3(\n\u001b[0;32m    726\u001b[0m           output_types\u001b[39m=\u001b[39;49m\u001b[39mself\u001b[39;49m\u001b[39m.\u001b[39;49m_flat_output_types,\n\u001b[0;32m    727\u001b[0m           output_shapes\u001b[39m=\u001b[39;49m\u001b[39mself\u001b[39;49m\u001b[39m.\u001b[39;49m_flat_output_shapes))\n\u001b[0;32m    728\u001b[0m   \u001b[39mif\u001b[39;00m \u001b[39mnot\u001b[39;00m context\u001b[39m.\u001b[39mexecuting_eagerly():\n\u001b[0;32m    729\u001b[0m     \u001b[39m# Add full type information to the graph so host memory types inside\u001b[39;00m\n\u001b[0;32m    730\u001b[0m     \u001b[39m# variants stay on CPU, e.g, ragged string tensors.\u001b[39;00m\n\u001b[1;32m   (...)\u001b[0m\n\u001b[0;32m    734\u001b[0m     \u001b[39m# type inference (esp. cross-function type inference) instead of\u001b[39;00m\n\u001b[0;32m    735\u001b[0m     \u001b[39m# setting the full type information manually.\u001b[39;00m\n\u001b[0;32m    736\u001b[0m     fulltype \u001b[39m=\u001b[39m type_utils\u001b[39m.\u001b[39miterator_full_type_from_spec(\n\u001b[0;32m    737\u001b[0m         \u001b[39mself\u001b[39m\u001b[39m.\u001b[39m_element_spec)\n",
      "File \u001b[1;32mc:\\Users\\chris\\miniconda3\\envs\\ai\\lib\\site-packages\\tensorflow\\python\\ops\\gen_dataset_ops.py:202\u001b[0m, in \u001b[0;36manonymous_iterator_v3\u001b[1;34m(output_types, output_shapes, name)\u001b[0m\n\u001b[0;32m    200\u001b[0m \u001b[39mif\u001b[39;00m tld\u001b[39m.\u001b[39mis_eager:\n\u001b[0;32m    201\u001b[0m   \u001b[39mtry\u001b[39;00m:\n\u001b[1;32m--> 202\u001b[0m     _result \u001b[39m=\u001b[39m pywrap_tfe\u001b[39m.\u001b[39;49mTFE_Py_FastPathExecute(\n\u001b[0;32m    203\u001b[0m       _ctx, \u001b[39m\"\u001b[39;49m\u001b[39mAnonymousIteratorV3\u001b[39;49m\u001b[39m\"\u001b[39;49m, name, \u001b[39m\"\u001b[39;49m\u001b[39moutput_types\u001b[39;49m\u001b[39m\"\u001b[39;49m, output_types,\n\u001b[0;32m    204\u001b[0m       \u001b[39m\"\u001b[39;49m\u001b[39moutput_shapes\u001b[39;49m\u001b[39m\"\u001b[39;49m, output_shapes)\n\u001b[0;32m    205\u001b[0m     \u001b[39mreturn\u001b[39;00m _result\n\u001b[0;32m    206\u001b[0m   \u001b[39mexcept\u001b[39;00m _core\u001b[39m.\u001b[39m_NotOkStatusException \u001b[39mas\u001b[39;00m e:\n",
      "\u001b[1;31mKeyboardInterrupt\u001b[0m: "
     ]
    }
   ],
   "source": [
    "env = SnakeEnv(tiles=7, tile_size=50)\n",
    "proc = Preprocessor()\n",
    "agent = DQNAGENT(env=env, processor=proc)\n",
    "agent.train()"
   ]
  }
 ],
 "metadata": {
  "kernelspec": {
   "display_name": "Python 3.10.6 ('ai')",
   "language": "python",
   "name": "python3"
  },
  "language_info": {
   "codemirror_mode": {
    "name": "ipython",
    "version": 3
   },
   "file_extension": ".py",
   "mimetype": "text/x-python",
   "name": "python",
   "nbconvert_exporter": "python",
   "pygments_lexer": "ipython3",
   "version": "3.10.6"
  },
  "orig_nbformat": 4,
  "vscode": {
   "interpreter": {
    "hash": "bb42a825cb137f8f6f87683b7076f5a8f01f23bcffe8bfce7003eb95672922a7"
   }
  }
 },
 "nbformat": 4,
 "nbformat_minor": 2
}
