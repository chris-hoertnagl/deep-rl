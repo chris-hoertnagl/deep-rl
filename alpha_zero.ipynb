{
 "cells": [
  {
   "cell_type": "code",
   "execution_count": 4,
   "metadata": {},
   "outputs": [],
   "source": [
    "# TODO:\n",
    "# 1. Convert DQN to pytorch\n",
    "# 2. Prepare MCTS for Deep Learning\n",
    "# 3. Merge DQN and MCTS and create a trainer and a player"
   ]
  }
 ],
 "metadata": {
  "kernelspec": {
   "display_name": "Python 3.10.6 ('ai')",
   "language": "python",
   "name": "python3"
  },
  "language_info": {
   "codemirror_mode": {
    "name": "ipython",
    "version": 3
   },
   "file_extension": ".py",
   "mimetype": "text/x-python",
   "name": "python",
   "nbconvert_exporter": "python",
   "pygments_lexer": "ipython3",
   "version": "3.10.6"
  },
  "orig_nbformat": 4,
  "vscode": {
   "interpreter": {
    "hash": "bb42a825cb137f8f6f87683b7076f5a8f01f23bcffe8bfce7003eb95672922a7"
   }
  }
 },
 "nbformat": 4,
 "nbformat_minor": 2
}
